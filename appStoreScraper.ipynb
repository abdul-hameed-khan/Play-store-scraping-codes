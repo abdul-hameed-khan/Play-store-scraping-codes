{
 "cells": [
  {
   "cell_type": "code",
   "execution_count": 10,
   "metadata": {},
   "outputs": [
    {
     "name": "stderr",
     "output_type": "stream",
     "text": [
      "2021-03-29 11:51:07,552 [INFO] Base - Initialised: AppStore('us', 'minecraft', 479516143)\n",
      "2021-03-29 11:51:07,555 [INFO] Base - Ready to fetch reviews from: https://apps.apple.com/us/app/minecraft/id479516143\n",
      "2021-03-29 11:51:08,277 [INFO] Base - [id:479516143] Fetched 20 reviews (20 fetched in total)\n"
     ]
    }
   ],
   "source": [
    "from app_store_scraper import AppStore\n",
    "import pandas as pd\n",
    "\n",
    "minecraft = AppStore(country=\"us\", app_name='minecraft', app_id=479516143)\n",
    "minecraft.review()\n",
    "\n",
    "df = pd.DataFrame(minecraft.reviews)\n",
    "df.head()\n",
    "df.to_csv('Dataset.csv')"
   ]
  },
  {
   "cell_type": "code",
   "execution_count": null,
   "metadata": {},
   "outputs": [],
   "source": []
  }
 ],
 "metadata": {
  "kernelspec": {
   "display_name": "Python 3",
   "language": "python",
   "name": "python3"
  },
  "language_info": {
   "codemirror_mode": {
    "name": "ipython",
    "version": 3
   },
   "file_extension": ".py",
   "mimetype": "text/x-python",
   "name": "python",
   "nbconvert_exporter": "python",
   "pygments_lexer": "ipython3",
   "version": "3.7.6"
  }
 },
 "nbformat": 4,
 "nbformat_minor": 4
}
