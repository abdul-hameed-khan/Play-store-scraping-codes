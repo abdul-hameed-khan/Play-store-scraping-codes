{
 "cells": [
  {
   "cell_type": "code",
   "execution_count": 1,
   "id": "actual-canadian",
   "metadata": {},
   "outputs": [],
   "source": [
    "import play_scraper\n",
    "import pandas as pd\n",
    "from google_play_scraper import Sort, reviews_all"
   ]
  },
  {
   "cell_type": "code",
   "execution_count": null,
   "id": "precious-japanese",
   "metadata": {},
   "outputs": [],
   "source": [
    "obj = play_scraper.search('mario kart')\n",
    "for counter in range(len(obj)):\n",
    "    reviewId1 = []\n",
    "    userName1 = []\n",
    "    userImage1 = []\n",
    "    content1 = []\n",
    "    score1 = []\n",
    "    thumbsUpCount1 = []\n",
    "    reviewCreatedVersion1 = []\n",
    "    at1 = []\n",
    "    replyContent1 = []\n",
    "    repliedAt1 = []\n",
    "    result = reviews_all(\n",
    "        obj[counter]['app_id'],\n",
    "    )\n",
    "    df = pd.DataFrame(result)\n",
    "    for reviewId,userName,userImage,content,score,thumbsUpCount,reviewCreatedVersion,at,replyContent,repliedAt in zip(df['reviewId'],df['userName'],df['userImage'],df['content'],df['score'],df['thumbsUpCount'],df['reviewCreatedVersion'],df['at'],df['replyContent'],df['repliedAt']):\n",
    "        reviewId1.append(reviewId)\n",
    "        userName1.append(userName)\n",
    "        userImage1.append(userImage)\n",
    "        content1.append(content)\n",
    "        score1.append(score)\n",
    "        thumbsUpCount1.append(thumbsUpCount)\n",
    "        reviewCreatedVersion1.append(reviewCreatedVersion)\n",
    "        at1.append(at)\n",
    "        replyContent1.append(replyContent)\n",
    "        repliedAt1.append(repliedAt)\n",
    "    dict={\n",
    "    'reviewId': reviewId1,\n",
    "    'userName':userName1,\n",
    "    'userImage':userImage1,\n",
    "    'content':content1,\n",
    "    'score':score1,\n",
    "    'thumbsUpCount':thumbsUpCount1,\n",
    "    'reviewCreatedVersion':reviewCreatedVersion1,\n",
    "    'at':at1,\n",
    "    'replyContent':replyContent1,\n",
    "    'repliedAt':repliedAt1,\n",
    "    }\n",
    "    df=pd.DataFrame(dict)\n",
    "    string = obj[counter]['title']\n",
    "    temp = ''.join(filter(str.isalnum, string)) \n",
    "    filename = temp+\".csv\"\n",
    "    df.to_csv(filename,index=False)"
   ]
  },
  {
   "cell_type": "code",
   "execution_count": null,
   "id": "formed-affiliation",
   "metadata": {},
   "outputs": [],
   "source": []
  }
 ],
 "metadata": {
  "kernelspec": {
   "display_name": "Python 3",
   "language": "python",
   "name": "python3"
  },
  "language_info": {
   "codemirror_mode": {
    "name": "ipython",
    "version": 3
   },
   "file_extension": ".py",
   "mimetype": "text/x-python",
   "name": "python",
   "nbconvert_exporter": "python",
   "pygments_lexer": "ipython3",
   "version": "3.8.5"
  }
 },
 "nbformat": 4,
 "nbformat_minor": 5
}
